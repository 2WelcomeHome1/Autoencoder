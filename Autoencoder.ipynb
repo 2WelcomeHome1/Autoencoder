{
  "cells": [
    {
      "cell_type": "markdown",
      "metadata": {
        "id": "kGpjPVe9U0x0"
      },
      "source": [
        "### Строим автоэнкодер"
      ]
    },
    {
      "cell_type": "code",
      "source": [
        "from google.colab import drive\n",
        "drive.mount(\"/content/gdrive\")"
      ],
      "metadata": {
        "colab": {
          "base_uri": "https://localhost:8080/"
        },
        "id": "Er8pPxGEn-zP",
        "outputId": "7f6759af-c4e1-4a9c-d2e4-29422b6dcfe1"
      },
      "execution_count": 1,
      "outputs": [
        {
          "output_type": "stream",
          "name": "stdout",
          "text": [
            "Mounted at /content/gdrive\n"
          ]
        }
      ]
    },
    {
      "cell_type": "code",
      "execution_count": 2,
      "metadata": {
        "id": "L1L9uJ2ITEEc"
      },
      "outputs": [],
      "source": [
        "from os.path import join\n",
        "import os\n",
        "import tqdm\n",
        "import tarfile\n",
        "import cv2\n",
        "import numpy as np\n",
        "\n",
        "\n",
        "dataset_dir='./gdrive/MyDrive/LR5'\n",
        "\n",
        "# http://www.cs.columbia.edu/CAVE/databases/pubfig/download/lfw_attributes.txt\n",
        "ATTRS_NAME = join(dataset_dir,\"data_test.csv\")\n",
        "\n",
        "# http://vis-www.cs.umass.edu/lfw/lfw-deepfunneled.tgz\n",
        "IMAGES_NAME = join(dataset_dir,\"lfw-deepfunneled.tgz\")\n",
        "\n",
        "# http://vis-www.cs.umass.edu/lfw/lfw.tgz\n",
        "RAW_IMAGES_NAME = join(dataset_dir,\"lfw.tgz\")\n",
        "\n",
        "def decode_image_from_raw_bytes(raw_bytes):\n",
        "    img = cv2.imdecode(np.asarray(bytearray(raw_bytes), dtype=np.uint8), 1)\n",
        "    img = cv2.cvtColor(img, cv2.COLOR_BGR2RGB)\n",
        "    return img\n",
        "\n",
        "def load_lfw_dataset(\n",
        "        use_raw=False,\n",
        "        dx=80,\n",
        "        dy=80,\n",
        "        dimx=45,\n",
        "        dimy=45\n",
        "        ):\n",
        "\n",
        "    df_attrs = pd.read_csv(ATTRS_NAME, sep='\\t', skiprows=1)\n",
        "    df_attrs = pd.DataFrame(df_attrs.iloc[:, :-1].values, columns=df_attrs.columns[1:])\n",
        "    imgs_with_attrs = set(map(tuple, df_attrs[[\"person\", \"imagenum\"]].values))\n",
        "\n",
        "    all_photos = []\n",
        "    photo_ids = []\n",
        "\n",
        "\n",
        "    with tarfile.open(RAW_IMAGES_NAME if use_raw else IMAGES_NAME) as f:\n",
        "        for m in tqdm.tqdm_notebook(f.getmembers()):\n",
        "            # Обрабатываем лица только из сжатых данных\n",
        "            if m.isfile() and m.name.endswith(\".jpg\"):\n",
        "                # Готовим изображение\n",
        "                img = decode_image_from_raw_bytes(f.extractfile(m).read())\n",
        "\n",
        "                # Вырезаем лиица\n",
        "                img = img[dy:-dy, dx:-dx]\n",
        "                img = cv2.resize(img, (dimx, dimy))\n",
        "\n",
        "                fname = os.path.split(m.name)[-1]\n",
        "                fname_splitted = fname[:-4].replace('_', ' ').split()\n",
        "                person_id = ' '.join(fname_splitted[:-1])\n",
        "                photo_number = int(fname_splitted[-1])\n",
        "                if (person_id, photo_number) in imgs_with_attrs:\n",
        "                    all_photos.append(img)\n",
        "                    photo_ids.append({'person': person_id, 'imagenum': photo_number})\n",
        "\n",
        "    photo_ids = pd.DataFrame(photo_ids)\n",
        "    all_photos = np.stack(all_photos).astype('uint8')\n",
        "\n",
        "    all_attrs = photo_ids.merge(df_attrs, on=('person', 'imagenum')).drop([\"person\", \"imagenum\"], axis=1)\n",
        "\n",
        "    return all_photos, all_attrs\n",
        "\n"
      ]
    },
    {
      "cell_type": "code",
      "execution_count": 3,
      "metadata": {
        "colab": {
          "base_uri": "https://localhost:8080/",
          "height": 367,
          "referenced_widgets": [
            "a3a85eecd38246b8b2c6999aca90a0ba",
            "a811964927334cacbc421639cd94f0b2",
            "fd0dc9257bdc423a86e2f2f762407244",
            "23409aedc7304b0992aab257987b51ce",
            "78609bdbec7242c3bfdcff6a3208e3ab",
            "a508b127a4f5440eaa67d2005d5847e2",
            "8912e4657789494ba1465b1677e91edb",
            "c571f75d31f546eeb1c75a42ccb91ca5",
            "dc17940ba2b845d1bb4652d7988e80f1",
            "4d4879e17eab461cb9e9308924c9f4c1",
            "f0594a19016c4c5b87c8522eb77fbc70"
          ]
        },
        "id": "z9KC6XbxTQOy",
        "outputId": "feb18532-4bf1-4a8b-e771-6adf16f53fed"
      },
      "outputs": [
        {
          "output_type": "stream",
          "name": "stderr",
          "text": [
            "<ipython-input-2-eb27be8c4741>:42: TqdmDeprecationWarning: This function will be removed in tqdm==5.0.0\n",
            "Please use `tqdm.notebook.tqdm` instead of `tqdm.tqdm_notebook`\n",
            "  for m in tqdm.tqdm_notebook(f.getmembers()):\n"
          ]
        },
        {
          "output_type": "display_data",
          "data": {
            "text/plain": [
              "  0%|          | 0/18983 [00:00<?, ?it/s]"
            ],
            "application/vnd.jupyter.widget-view+json": {
              "version_major": 2,
              "version_minor": 0,
              "model_id": "a3a85eecd38246b8b2c6999aca90a0ba"
            }
          },
          "metadata": {}
        },
        {
          "output_type": "stream",
          "name": "stdout",
          "text": [
            "0.5 -0.5\n"
          ]
        },
        {
          "output_type": "display_data",
          "data": {
            "text/plain": [
              "<Figure size 432x288 with 1 Axes>"
            ],
            "image/png": "[encoded data removed]"
          },
          "metadata": {
            "needs_background": "light"
          }
        }
      ],
      "source": [
        "import pandas as pd\n",
        "X, attr = load_lfw_dataset(use_raw=True, dimx=32, dimy=32)\n",
        "\n",
        "X = X.astype('float32') / 255.0 - 0.5\n",
        "print(X.max(), X.min())\n",
        "\n",
        "import matplotlib.pyplot as plt\n",
        "def show_image(x):\n",
        "    plt.imshow(np.clip(x + 0.5, 0, 1))\n",
        "\n",
        "show_image(X[6])\n",
        "\n",
        "from sklearn.model_selection import train_test_split\n",
        "X_train, X_test = train_test_split(X, test_size=0.1, random_state=42)"
      ]
    },
    {
      "cell_type": "code",
      "source": [
        "from keras.models import Sequential, Model\n",
        "from keras.layers import Input, Conv2D, MaxPool2D,UpSampling2D, Conv2DTranspose, BatchNormalization, Dropout, ReLU, Flatten, Dense, LeakyReLU\n",
        "from keras.initializers import GlorotNormal\n",
        "\n",
        "\n",
        "def build_autoencoder(img_shape, code_size):\n",
        "    initializer = GlorotNormal()\n",
        "\n",
        "    encoder = Sequential(name = 'encoder')\n",
        "\n",
        "    encoder.add(Conv2D(32, 5, strides=2, padding='same',kernel_initializer=initializer, use_bias=False))\n",
        "    encoder.add(BatchNormalization())\n",
        "    encoder.add(ReLU())\n",
        "\n",
        "    encoder.add(Conv2D(64, 5, strides=2, padding='same',kernel_initializer=initializer, use_bias=False))\n",
        "    encoder.add(BatchNormalization())\n",
        "    encoder.add(ReLU())\n",
        "\n",
        "    #BottleNeck\n",
        "    encoder.add(Conv2D(64, 5, strides=2, padding='same',kernel_initializer=initializer, use_bias=False)) #64 -> 128 = val_loss: 0.0047\n",
        "    encoder.add(BatchNormalization())\n",
        "    encoder.add(ReLU())\n",
        "\n",
        "    decoder = Sequential(name = 'decoder')\n",
        "\n",
        "    decoder.add(Conv2DTranspose(64, 5, strides=2, padding='same',kernel_initializer=initializer, use_bias=False))\n",
        "    decoder.add(BatchNormalization())\n",
        "    decoder.add(LeakyReLU())\n",
        "    decoder.add(Dropout(0.25))\n",
        "\n",
        "\n",
        "    decoder.add(Conv2DTranspose(32, 5, strides=2, padding='same',kernel_initializer=initializer, use_bias=False))\n",
        "    decoder.add(BatchNormalization())\n",
        "    decoder.add(LeakyReLU())\n",
        "    decoder.add(Dropout(0.25))\n",
        "\n",
        "    decoder.add(Conv2DTranspose(3, 5, strides=2, padding='same',kernel_initializer=initializer, use_bias=False))\n",
        "    decoder.add(BatchNormalization())\n",
        "    decoder.add(LeakyReLU())\n",
        "    decoder.add(Dropout(0.25))\n",
        "\n",
        "    return encoder, decoder"
      ],
      "metadata": {
        "id": "aahBIXPDp9yl"
      },
      "execution_count": 83,
      "outputs": []
    },
    {
      "cell_type": "code",
      "execution_count": 84,
      "metadata": {
        "colab": {
          "base_uri": "https://localhost:8080/"
        },
        "id": "0sCeQ_ULn-U_",
        "outputId": "7f19499c-0c49-4b22-d3b7-dad4aabc60df"
      },
      "outputs": [
        {
          "output_type": "stream",
          "name": "stdout",
          "text": [
            "Model: \"model_10\"\n",
            "_________________________________________________________________\n",
            " Layer (type)                Output Shape              Param #   \n",
            "=================================================================\n",
            " input_22 (InputLayer)       [(None, 32, 32, 3)]       0         \n",
            "                                                                 \n",
            " encoder (Sequential)        (None, 4, 4, 64)          156640    \n",
            "                                                                 \n",
            " decoder (Sequential)        (None, 32, 32, 3)         156396    \n",
            "                                                                 \n",
            "=================================================================\n",
            "Total params: 313,036\n",
            "Trainable params: 312,518\n",
            "Non-trainable params: 518\n",
            "_________________________________________________________________\n",
            "None\n",
            "Epoch 1/50\n",
            "119/119 [==============================] - 2s 8ms/step - loss: 0.2207 - val_loss: 0.0473\n",
            "Epoch 2/50\n",
            "119/119 [==============================] - 1s 6ms/step - loss: 0.1391 - val_loss: 0.0430\n",
            "Epoch 3/50\n",
            "119/119 [==============================] - 1s 5ms/step - loss: 0.1204 - val_loss: 0.0348\n",
            "Epoch 4/50\n",
            "119/119 [==============================] - 1s 5ms/step - loss: 0.1065 - val_loss: 0.0320\n",
            "Epoch 5/50\n",
            "119/119 [==============================] - 1s 5ms/step - loss: 0.0945 - val_loss: 0.0351\n",
            "Epoch 6/50\n",
            "119/119 [==============================] - 1s 5ms/step - loss: 0.0838 - val_loss: 0.0438\n",
            "Epoch 7/50\n",
            "119/119 [==============================] - 1s 5ms/step - loss: 0.0741 - val_loss: 0.0448\n",
            "Epoch 8/50\n",
            "119/119 [==============================] - 1s 5ms/step - loss: 0.0656 - val_loss: 0.0426\n",
            "Epoch 9/50\n",
            "119/119 [==============================] - 1s 6ms/step - loss: 0.0583 - val_loss: 0.0299\n",
            "Epoch 10/50\n",
            "119/119 [==============================] - 1s 6ms/step - loss: 0.0517 - val_loss: 0.0263\n",
            "Epoch 11/50\n",
            "119/119 [==============================] - 1s 6ms/step - loss: 0.0457 - val_loss: 0.0259\n",
            "Epoch 12/50\n",
            "119/119 [==============================] - 1s 5ms/step - loss: 0.0404 - val_loss: 0.0154\n",
            "Epoch 13/50\n",
            "119/119 [==============================] - 1s 5ms/step - loss: 0.0358 - val_loss: 0.0136\n",
            "Epoch 14/50\n",
            "119/119 [==============================] - 1s 6ms/step - loss: 0.0317 - val_loss: 0.0111\n",
            "Epoch 15/50\n",
            "119/119 [==============================] - 1s 5ms/step - loss: 0.0282 - val_loss: 0.0108\n",
            "Epoch 16/50\n",
            "119/119 [==============================] - 1s 6ms/step - loss: 0.0252 - val_loss: 0.0090\n",
            "Epoch 17/50\n",
            "119/119 [==============================] - 1s 6ms/step - loss: 0.0227 - val_loss: 0.0078\n",
            "Epoch 18/50\n",
            "119/119 [==============================] - 1s 6ms/step - loss: 0.0208 - val_loss: 0.0071\n",
            "Epoch 19/50\n",
            "119/119 [==============================] - 1s 6ms/step - loss: 0.0192 - val_loss: 0.0067\n",
            "Epoch 20/50\n",
            "119/119 [==============================] - 1s 5ms/step - loss: 0.0181 - val_loss: 0.0065\n",
            "Epoch 21/50\n",
            "119/119 [==============================] - 1s 5ms/step - loss: 0.0172 - val_loss: 0.0063\n",
            "Epoch 22/50\n",
            "119/119 [==============================] - 1s 6ms/step - loss: 0.0167 - val_loss: 0.0065\n",
            "Epoch 23/50\n",
            "119/119 [==============================] - 1s 5ms/step - loss: 0.0163 - val_loss: 0.0064\n",
            "Epoch 24/50\n",
            "119/119 [==============================] - 1s 6ms/step - loss: 0.0160 - val_loss: 0.0064\n",
            "Epoch 25/50\n",
            "119/119 [==============================] - 1s 5ms/step - loss: 0.0158 - val_loss: 0.0061\n",
            "Epoch 26/50\n",
            "119/119 [==============================] - 1s 6ms/step - loss: 0.0157 - val_loss: 0.0063\n",
            "Epoch 27/50\n",
            "119/119 [==============================] - 1s 5ms/step - loss: 0.0156 - val_loss: 0.0063\n",
            "Epoch 28/50\n",
            "119/119 [==============================] - 1s 6ms/step - loss: 0.0155 - val_loss: 0.0063\n",
            "Epoch 29/50\n",
            "119/119 [==============================] - 1s 6ms/step - loss: 0.0154 - val_loss: 0.0061\n",
            "Epoch 30/50\n",
            "119/119 [==============================] - 1s 6ms/step - loss: 0.0153 - val_loss: 0.0060\n",
            "Epoch 31/50\n",
            "119/119 [==============================] - 1s 5ms/step - loss: 0.0152 - val_loss: 0.0064\n",
            "Epoch 32/50\n",
            "119/119 [==============================] - 1s 5ms/step - loss: 0.0152 - val_loss: 0.0063\n",
            "Epoch 33/50\n",
            "119/119 [==============================] - 1s 5ms/step - loss: 0.0151 - val_loss: 0.0061\n",
            "Epoch 34/50\n",
            "119/119 [==============================] - 1s 5ms/step - loss: 0.0150 - val_loss: 0.0059\n",
            "Epoch 35/50\n",
            "119/119 [==============================] - 1s 5ms/step - loss: 0.0149 - val_loss: 0.0058\n",
            "Epoch 36/50\n",
            "119/119 [==============================] - 1s 6ms/step - loss: 0.0149 - val_loss: 0.0058\n",
            "Epoch 37/50\n",
            "119/119 [==============================] - 1s 5ms/step - loss: 0.0148 - val_loss: 0.0055\n",
            "Epoch 38/50\n",
            "119/119 [==============================] - 1s 5ms/step - loss: 0.0147 - val_loss: 0.0057\n",
            "Epoch 39/50\n",
            "119/119 [==============================] - 1s 5ms/step - loss: 0.0146 - val_loss: 0.0056\n",
            "Epoch 40/50\n",
            "119/119 [==============================] - 1s 6ms/step - loss: 0.0145 - val_loss: 0.0058\n",
            "Epoch 41/50\n",
            "119/119 [==============================] - 1s 6ms/step - loss: 0.0145 - val_loss: 0.0048\n",
            "Epoch 42/50\n",
            "119/119 [==============================] - 1s 8ms/step - loss: 0.0144 - val_loss: 0.0052\n",
            "Epoch 43/50\n",
            "119/119 [==============================] - 1s 8ms/step - loss: 0.0144 - val_loss: 0.0055\n",
            "Epoch 44/50\n",
            "119/119 [==============================] - 1s 8ms/step - loss: 0.0143 - val_loss: 0.0053\n",
            "Epoch 45/50\n",
            "119/119 [==============================] - 1s 8ms/step - loss: 0.0142 - val_loss: 0.0048\n",
            "Epoch 46/50\n",
            "119/119 [==============================] - 1s 6ms/step - loss: 0.0142 - val_loss: 0.0055\n",
            "Epoch 47/50\n",
            "119/119 [==============================] - 1s 6ms/step - loss: 0.0141 - val_loss: 0.0055\n",
            "Epoch 48/50\n",
            "119/119 [==============================] - 1s 5ms/step - loss: 0.0141 - val_loss: 0.0050\n",
            "Epoch 49/50\n",
            "119/119 [==============================] - 1s 6ms/step - loss: 0.0141 - val_loss: 0.0050\n",
            "Epoch 50/50\n",
            "119/119 [==============================] - 1s 6ms/step - loss: 0.0140 - val_loss: 0.0048\n"
          ]
        }
      ],
      "source": [
        "IMG_SHAPE = X.shape[1:]\n",
        "encoder, decoder = build_autoencoder(IMG_SHAPE, 32)\n",
        "\n",
        "inp = Input(IMG_SHAPE)\n",
        "code = encoder(inp)\n",
        "reconstruction = decoder(code)\n",
        "\n",
        "autoencoder = Model(inp,reconstruction)\n",
        "autoencoder.compile(optimizer='adamax', loss='mse')\n",
        "\n",
        "print(autoencoder.summary())\n",
        "\n",
        "history = autoencoder.fit(x=X_train, y=X_train, epochs=50,\n",
        "                validation_data=[X_test, X_test])"
      ]
    },
    {
      "cell_type": "code",
      "execution_count": 85,
      "metadata": {
        "id": "n2ClHQykT4QI",
        "colab": {
          "base_uri": "https://localhost:8080/",
          "height": 295
        },
        "outputId": "18a8d942-4fbc-44cc-c261-8f7c601b27b3"
      },
      "outputs": [
        {
          "output_type": "display_data",
          "data": {
            "text/plain": [
              "<Figure size 432x288 with 1 Axes>"
            ],
            "image/png": "[encoded data removed]"
          },
          "metadata": {
            "needs_background": "light"
          }
        }
      ],
      "source": [
        "plt.plot(history.history['loss'])\n",
        "plt.plot(history.history['val_loss'])\n",
        "plt.title('model loss')\n",
        "plt.ylabel('loss')\n",
        "plt.xlabel('epoch')\n",
        "plt.legend(['train', 'test'], loc='upper left')\n",
        "plt.show()"
      ]
    },
    {
      "cell_type": "code",
      "execution_count": 86,
      "metadata": {
        "id": "D3AbZqA1T5ux",
        "colab": {
          "base_uri": "https://localhost:8080/",
          "height": 916
        },
        "outputId": "1e3d8010-786f-4333-f3fb-995255f42489"
      },
      "outputs": [
        {
          "output_type": "stream",
          "name": "stdout",
          "text": [
            "1/1 [==============================] - 0s 60ms/step\n",
            "1/1 [==============================] - 0s 89ms/step\n"
          ]
        },
        {
          "output_type": "display_data",
          "data": {
            "text/plain": [
              "<Figure size 432x288 with 3 Axes>"
            ],
            "image/png": "[encoded data removed]"
          },
          "metadata": {
            "needs_background": "light"
          }
        },
        {
          "output_type": "stream",
          "name": "stdout",
          "text": [
            "1/1 [==============================] - 0s 14ms/step\n",
            "1/1 [==============================] - 0s 19ms/step\n"
          ]
        },
        {
          "output_type": "display_data",
          "data": {
            "text/plain": [
              "<Figure size 432x288 with 3 Axes>"
            ],
            "image/png": "[encoded data removed]"
          },
          "metadata": {
            "needs_background": "light"
          }
        },
        {
          "output_type": "stream",
          "name": "stdout",
          "text": [
            "1/1 [==============================] - 0s 15ms/step\n",
            "1/1 [==============================] - 0s 14ms/step\n"
          ]
        },
        {
          "output_type": "display_data",
          "data": {
            "text/plain": [
              "<Figure size 432x288 with 3 Axes>"
            ],
            "image/png": "[encoded data removed]"
          },
          "metadata": {
            "needs_background": "light"
          }
        },
        {
          "output_type": "stream",
          "name": "stdout",
          "text": [
            "1/1 [==============================] - 0s 21ms/step\n",
            "1/1 [==============================] - 0s 14ms/step\n"
          ]
        },
        {
          "output_type": "display_data",
          "data": {
            "text/plain": [
              "<Figure size 432x288 with 3 Axes>"
            ],
            "image/png": "[encoded data removed]"
          },
          "metadata": {
            "needs_background": "light"
          }
        },
        {
          "output_type": "stream",
          "name": "stdout",
          "text": [
            "1/1 [==============================] - 0s 18ms/step\n",
            "1/1 [==============================] - 0s 15ms/step\n"
          ]
        },
        {
          "output_type": "display_data",
          "data": {
            "text/plain": [
              "<Figure size 432x288 with 3 Axes>"
            ],
            "image/png": "[encoded data removed]"
          },
          "metadata": {
            "needs_background": "light"
          }
        }
      ],
      "source": [
        "def visualize(img,encoder, decoder):\n",
        "    \"\"\"Draws original, encoded and decoded images\"\"\"\n",
        "    # img[None] будет иметь шейп (1, 32, 32, 3), такой же как у модели\n",
        "    code = encoder.predict(img[None])[0]\n",
        "    reco = decoder.predict(code[None])[0]\n",
        "\n",
        "    plt.subplot(1,3,1)\n",
        "    plt.title(\"Original\")\n",
        "    show_image(img)\n",
        "\n",
        "    plt.subplot(1,3,2)\n",
        "    plt.title(\"Code\")\n",
        "    plt.imshow(code.reshape([code.shape[-1]//2,-1]))\n",
        "\n",
        "    plt.subplot(1,3,3)\n",
        "    plt.title(\"Reconstructed\")\n",
        "    show_image(reco)\n",
        "    plt.show()\n",
        "\n",
        "for i in range(5):\n",
        "    img = X_test[i]\n",
        "    visualize(img,encoder, decoder)"
      ]
    },
    {
      "cell_type": "markdown",
      "metadata": {
        "id": "N932N0pyT9RA"
      },
      "source": [
        "### Фильтрация шума"
      ]
    },
    {
      "cell_type": "code",
      "execution_count": null,
      "metadata": {
        "id": "McM_CHfOUEFs"
      },
      "outputs": [],
      "source": [
        "def apply_gaussian_noise(X, sigma=0.1):\n",
        "    noise = np.random.normal(loc=0.0, scale=sigma, size=X.shape)\n",
        "    return X + noise"
      ]
    },
    {
      "cell_type": "code",
      "execution_count": null,
      "metadata": {
        "id": "bhTNEfuTUFq9"
      },
      "outputs": [],
      "source": [
        "plt.subplot(1,4,1)\n",
        "show_image(X_train[0])\n",
        "plt.subplot(1,4,2)\n",
        "show_image(apply_gaussian_noise(X_train[:1],sigma=0.01)[0])\n",
        "plt.subplot(1,4,3)\n",
        "show_image(apply_gaussian_noise(X_train[:1],sigma=0.1)[0])\n",
        "plt.subplot(1,4,4)\n",
        "show_image(apply_gaussian_noise(X_train[:1],sigma=0.5)[0])"
      ]
    },
    {
      "cell_type": "code",
      "execution_count": null,
      "metadata": {
        "id": "fOKPAiWoUIAX"
      },
      "outputs": [],
      "source": [
        "code_size = 100\n",
        "\n",
        "encoder, decoder = build_autoencoder(IMG_SHAPE, code_size=code_size)\n",
        "\n",
        "inp = Input(IMG_SHAPE)\n",
        "code = encoder(inp)\n",
        "reconstruction = decoder(code)\n",
        "\n",
        "autoencoder = Model(inp, reconstruction)\n",
        "autoencoder.compile('adamax', 'mse')\n",
        "\n",
        "for i in range(25):\n",
        "    print(\"Epoch %i/25, Generating corrupted samples...\"%(i+1))\n",
        "    X_train_noise = apply_gaussian_noise(X_train)\n",
        "    X_test_noise = apply_gaussian_noise(X_test)\n",
        "\n",
        "    autoencoder.fit(x=X_train_noise, y=X_train, epochs=1,\n",
        "                    validation_data=[X_test_noise, X_test])"
      ]
    },
    {
      "cell_type": "code",
      "execution_count": null,
      "metadata": {
        "id": "84_4ivM0ULqR"
      },
      "outputs": [],
      "source": [
        "X_test_noise = apply_gaussian_noise(X_test)\n",
        "for i in range(5):\n",
        "    img = X_test_noise[i]\n",
        "    visualize(img,encoder,decoder)"
      ]
    }
  ],
  "metadata": {
    "colab": {
      "provenance": []
    },
    "kernelspec": {
      "display_name": "Python 3 (ipykernel)",
      "language": "python",
      "name": "python3"
    },
    "language_info": {
      "codemirror_mode": {
        "name": "ipython",
        "version": 3
      },
      "file_extension": ".py",
      "mimetype": "text/x-python",
      "name": "python",
      "nbconvert_exporter": "python",
      "pygments_lexer": "ipython3",
      "version": "3.9.12"
    },
    "widgets": {
      "application/vnd.jupyter.widget-state+json": {
        "a3a85eecd38246b8b2c6999aca90a0ba": {
          "model_module": "@jupyter-widgets/controls",
          "model_name": "HBoxModel",
          "model_module_version": "1.5.0",
          "state": {
            "_dom_classes": [],
            "_model_module": "@jupyter-widgets/controls",
            "_model_module_version": "1.5.0",
            "_model_name": "HBoxModel",
            "_view_count": null,
            "_view_module": "@jupyter-widgets/controls",
            "_view_module_version": "1.5.0",
            "_view_name": "HBoxView",
            "box_style": "",
            "children": [
              "IPY_MODEL_a811964927334cacbc421639cd94f0b2",
              "IPY_MODEL_fd0dc9257bdc423a86e2f2f762407244",
              "IPY_MODEL_23409aedc7304b0992aab257987b51ce"
            ],
            "layout": "IPY_MODEL_78609bdbec7242c3bfdcff6a3208e3ab"
          }
        },
        "a811964927334cacbc421639cd94f0b2": {
          "model_module": "@jupyter-widgets/controls",
          "model_name": "HTMLModel",
          "model_module_version": "1.5.0",
          "state": {
            "_dom_classes": [],
            "_model_module": "@jupyter-widgets/controls",
            "_model_module_version": "1.5.0",
            "_model_name": "HTMLModel",
            "_view_count": null,
            "_view_module": "@jupyter-widgets/controls",
            "_view_module_version": "1.5.0",
            "_view_name": "HTMLView",
            "description": "",
            "description_tooltip": null,
            "layout": "IPY_MODEL_a508b127a4f5440eaa67d2005d5847e2",
            "placeholder": "​",
            "style": "IPY_MODEL_8912e4657789494ba1465b1677e91edb",
            "value": "100%"
          }
        },
        "fd0dc9257bdc423a86e2f2f762407244": {
          "model_module": "@jupyter-widgets/controls",
          "model_name": "FloatProgressModel",
          "model_module_version": "1.5.0",
          "state": {
            "_dom_classes": [],
            "_model_module": "@jupyter-widgets/controls",
            "_model_module_version": "1.5.0",
            "_model_name": "FloatProgressModel",
            "_view_count": null,
            "_view_module": "@jupyter-widgets/controls",
            "_view_module_version": "1.5.0",
            "_view_name": "ProgressView",
            "bar_style": "success",
            "description": "",
            "description_tooltip": null,
            "layout": "IPY_MODEL_c571f75d31f546eeb1c75a42ccb91ca5",
            "max": 18983,
            "min": 0,
            "orientation": "horizontal",
            "style": "IPY_MODEL_dc17940ba2b845d1bb4652d7988e80f1",
            "value": 18983
          }
        },
        "23409aedc7304b0992aab257987b51ce": {
          "model_module": "@jupyter-widgets/controls",
          "model_name": "HTMLModel",
          "model_module_version": "1.5.0",
          "state": {
            "_dom_classes": [],
            "_model_module": "@jupyter-widgets/controls",
            "_model_module_version": "1.5.0",
            "_model_name": "HTMLModel",
            "_view_count": null,
            "_view_module": "@jupyter-widgets/controls",
            "_view_module_version": "1.5.0",
            "_view_name": "HTMLView",
            "description": "",
            "description_tooltip": null,
            "layout": "IPY_MODEL_4d4879e17eab461cb9e9308924c9f4c1",
            "placeholder": "​",
            "style": "IPY_MODEL_f0594a19016c4c5b87c8522eb77fbc70",
            "value": " 18983/18983 [00:13&lt;00:00, 1991.34it/s]"
          }
        },
        "78609bdbec7242c3bfdcff6a3208e3ab": {
          "model_module": "@jupyter-widgets/base",
          "model_name": "LayoutModel",
          "model_module_version": "1.2.0",
          "state": {
            "_model_module": "@jupyter-widgets/base",
            "_model_module_version": "1.2.0",
            "_model_name": "LayoutModel",
            "_view_count": null,
            "_view_module": "@jupyter-widgets/base",
            "_view_module_version": "1.2.0",
            "_view_name": "LayoutView",
            "align_content": null,
            "align_items": null,
            "align_self": null,
            "border": null,
            "bottom": null,
            "display": null,
            "flex": null,
            "flex_flow": null,
            "grid_area": null,
            "grid_auto_columns": null,
            "grid_auto_flow": null,
            "grid_auto_rows": null,
            "grid_column": null,
            "grid_gap": null,
            "grid_row": null,
            "grid_template_areas": null,
            "grid_template_columns": null,
            "grid_template_rows": null,
            "height": null,
            "justify_content": null,
            "justify_items": null,
            "left": null,
            "margin": null,
            "max_height": null,
            "max_width": null,
            "min_height": null,
            "min_width": null,
            "object_fit": null,
            "object_position": null,
            "order": null,
            "overflow": null,
            "overflow_x": null,
            "overflow_y": null,
            "padding": null,
            "right": null,
            "top": null,
            "visibility": null,
            "width": null
          }
        },
        "a508b127a4f5440eaa67d2005d5847e2": {
          "model_module": "@jupyter-widgets/base",
          "model_name": "LayoutModel",
          "model_module_version": "1.2.0",
          "state": {
            "_model_module": "@jupyter-widgets/base",
            "_model_module_version": "1.2.0",
            "_model_name": "LayoutModel",
            "_view_count": null,
            "_view_module": "@jupyter-widgets/base",
            "_view_module_version": "1.2.0",
            "_view_name": "LayoutView",
            "align_content": null,
            "align_items": null,
            "align_self": null,
            "border": null,
            "bottom": null,
            "display": null,
            "flex": null,
            "flex_flow": null,
            "grid_area": null,
            "grid_auto_columns": null,
            "grid_auto_flow": null,
            "grid_auto_rows": null,
            "grid_column": null,
            "grid_gap": null,
            "grid_row": null,
            "grid_template_areas": null,
            "grid_template_columns": null,
            "grid_template_rows": null,
            "height": null,
            "justify_content": null,
            "justify_items": null,
            "left": null,
            "margin": null,
            "max_height": null,
            "max_width": null,
            "min_height": null,
            "min_width": null,
            "object_fit": null,
            "object_position": null,
            "order": null,
            "overflow": null,
            "overflow_x": null,
            "overflow_y": null,
            "padding": null,
            "right": null,
            "top": null,
            "visibility": null,
            "width": null
          }
        },
        "8912e4657789494ba1465b1677e91edb": {
          "model_module": "@jupyter-widgets/controls",
          "model_name": "DescriptionStyleModel",
          "model_module_version": "1.5.0",
          "state": {
            "_model_module": "@jupyter-widgets/controls",
            "_model_module_version": "1.5.0",
            "_model_name": "DescriptionStyleModel",
            "_view_count": null,
            "_view_module": "@jupyter-widgets/base",
            "_view_module_version": "1.2.0",
            "_view_name": "StyleView",
            "description_width": ""
          }
        },
        "c571f75d31f546eeb1c75a42ccb91ca5": {
          "model_module": "@jupyter-widgets/base",
          "model_name": "LayoutModel",
          "model_module_version": "1.2.0",
          "state": {
            "_model_module": "@jupyter-widgets/base",
            "_model_module_version": "1.2.0",
            "_model_name": "LayoutModel",
            "_view_count": null,
            "_view_module": "@jupyter-widgets/base",
            "_view_module_version": "1.2.0",
            "_view_name": "LayoutView",
            "align_content": null,
            "align_items": null,
            "align_self": null,
            "border": null,
            "bottom": null,
            "display": null,
            "flex": null,
            "flex_flow": null,
            "grid_area": null,
            "grid_auto_columns": null,
            "grid_auto_flow": null,
            "grid_auto_rows": null,
            "grid_column": null,
            "grid_gap": null,
            "grid_row": null,
            "grid_template_areas": null,
            "grid_template_columns": null,
            "grid_template_rows": null,
            "height": null,
            "justify_content": null,
            "justify_items": null,
            "left": null,
            "margin": null,
            "max_height": null,
            "max_width": null,
            "min_height": null,
            "min_width": null,
            "object_fit": null,
            "object_position": null,
            "order": null,
            "overflow": null,
            "overflow_x": null,
            "overflow_y": null,
            "padding": null,
            "right": null,
            "top": null,
            "visibility": null,
            "width": null
          }
        },
        "dc17940ba2b845d1bb4652d7988e80f1": {
          "model_module": "@jupyter-widgets/controls",
          "model_name": "ProgressStyleModel",
          "model_module_version": "1.5.0",
          "state": {
            "_model_module": "@jupyter-widgets/controls",
            "_model_module_version": "1.5.0",
            "_model_name": "ProgressStyleModel",
            "_view_count": null,
            "_view_module": "@jupyter-widgets/base",
            "_view_module_version": "1.2.0",
            "_view_name": "StyleView",
            "bar_color": null,
            "description_width": ""
          }
        },
        "4d4879e17eab461cb9e9308924c9f4c1": {
          "model_module": "@jupyter-widgets/base",
          "model_name": "LayoutModel",
          "model_module_version": "1.2.0",
          "state": {
            "_model_module": "@jupyter-widgets/base",
            "_model_module_version": "1.2.0",
            "_model_name": "LayoutModel",
            "_view_count": null,
            "_view_module": "@jupyter-widgets/base",
            "_view_module_version": "1.2.0",
            "_view_name": "LayoutView",
            "align_content": null,
            "align_items": null,
            "align_self": null,
            "border": null,
            "bottom": null,
            "display": null,
            "flex": null,
            "flex_flow": null,
            "grid_area": null,
            "grid_auto_columns": null,
            "grid_auto_flow": null,
            "grid_auto_rows": null,
            "grid_column": null,
            "grid_gap": null,
            "grid_row": null,
            "grid_template_areas": null,
            "grid_template_columns": null,
            "grid_template_rows": null,
            "height": null,
            "justify_content": null,
            "justify_items": null,
            "left": null,
            "margin": null,
            "max_height": null,
            "max_width": null,
            "min_height": null,
            "min_width": null,
            "object_fit": null,
            "object_position": null,
            "order": null,
            "overflow": null,
            "overflow_x": null,
            "overflow_y": null,
            "padding": null,
            "right": null,
            "top": null,
            "visibility": null,
            "width": null
          }
        },
        "f0594a19016c4c5b87c8522eb77fbc70": {
          "model_module": "@jupyter-widgets/controls",
          "model_name": "DescriptionStyleModel",
          "model_module_version": "1.5.0",
          "state": {
            "_model_module": "@jupyter-widgets/controls",
            "_model_module_version": "1.5.0",
            "_model_name": "DescriptionStyleModel",
            "_view_count": null,
            "_view_module": "@jupyter-widgets/base",
            "_view_module_version": "1.2.0",
            "_view_name": "StyleView",
            "description_width": ""
          }
        }
      }
    },
    "accelerator": "GPU",
    "gpuClass": "standard"
  },
  "nbformat": 4,
  "nbformat_minor": 0
}